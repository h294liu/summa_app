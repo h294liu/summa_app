{
 "cells": [
  {
   "cell_type": "code",
   "execution_count": 2,
   "metadata": {},
   "outputs": [],
   "source": [
    "import numpy as np\n",
    "\n",
    "upco_huc_file = 'huc_id_upco.txt'\n",
    "case_huc_file = 'step1_huc_id_riogrd.txt'\n",
    "opath = 'step2_huc_id_index_riogrd.txt'\n",
    "\n",
    "upco_hucs = list(np.loadtxt(upco_huc_file, dtype='str'))\n",
    "rio_hucs = list(np.loadtxt(case_huc_file, dtype='str'))\n",
    "\n",
    "index = []\n",
    "for huc_i in rio_hucs:\n",
    "    index.append(upco_hucs.index(huc_i))\n",
    "\n",
    "np.savetxt(opath, index, fmt='%d')#, header='HUC index of UPCO HUCs')"
   ]
  },
  {
   "cell_type": "code",
   "execution_count": null,
   "metadata": {},
   "outputs": [],
   "source": []
  }
 ],
 "metadata": {
  "kernelspec": {
   "display_name": "Python [conda env:ENTER]",
   "language": "python",
   "name": "conda-env-ENTER-py"
  },
  "language_info": {
   "codemirror_mode": {
    "name": "ipython",
    "version": 3
   },
   "file_extension": ".py",
   "mimetype": "text/x-python",
   "name": "python",
   "nbconvert_exporter": "python",
   "pygments_lexer": "ipython3",
   "version": "3.7.0"
  }
 },
 "nbformat": 4,
 "nbformat_minor": 4
}
