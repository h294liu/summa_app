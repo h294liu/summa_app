{
 "cells": [
  {
   "cell_type": "code",
   "execution_count": 29,
   "metadata": {},
   "outputs": [
    {
     "name": "stderr",
     "output_type": "stream",
     "text": [
      "/glade/u/home/hongli/tools/miniconda/ENTER/lib/python3.7/site-packages/xarray/coding/times.py:211: FutureWarning: the 'box' keyword is deprecated and will be removed in a future version. Please take steps to stop the use of 'box'\n",
      "  result = pd.to_timedelta(num_timedeltas, unit=units, box=False)\n"
     ]
    }
   ],
   "source": [
    "import os, shutil\n",
    "import xarray as xr\n",
    "import numpy as np\n",
    "\n",
    "# change GMET SWradiation equal to NLDAS SWradition\n",
    "#===================MAIN SCRIPTE=====================\n",
    "root_dir = '/glade/u/home/hongli/work/sharp/basins/scripts'\n",
    "os.chdir(root_dir)\n",
    "output_folder='/glade/u/home/hongli/work/sharp/basins/tayprk_huc12_metsim_radiation/forcings/gmet_3hr_summa/'\n",
    "outputfile = 'ens_forc.UPCO.huc12.001_20100101-20101231.nc'\n",
    "\n",
    "gmet_forcing_file = '/glade/u/home/hongli/work/sharp/basins/tayprk_huc12_metsim_radiation/forcings/gmet_3hr_summa/ens_forc.UPCO.huc12.001_20100101-20101231_origin.nc'\n",
    "nldas_forcing_file = '/glade/u/home/hongli/work/sharp/basins/tayprk_huc12_nldas/forcings/forcing_nldas.tayprk.2010.nc'\n",
    "\n",
    "# var_names = ['pptrate','airtemp','LWRadAtm','SWRadAtm', 'airpres','spechum','windspd']\n",
    "# var_names = ['LWRadAtm','SWRadAtm', 'airpres','spechum','windspd']\n",
    "# var_names = ['airpres','spechum','windspd']\n",
    "# var_names = ['spechum','windspd']\n",
    "# var_names = ['windspd']\n",
    "# var_names = []\n",
    "# var_names = ['airtemp']\n",
    "# var_names = ['airtemp', 'windspd']\n",
    "# var_names = ['airtemp','LWRadAtm','SWRadAtm', 'airpres','spechum','windspd']\n",
    "# var_names = ['pptrate','LWRadAtm','SWRadAtm', 'airpres','spechum','windspd']\n",
    "# var_names = ['pptrate','airtemp','SWRadAtm', 'airpres','spechum','windspd']\n",
    "# var_names = ['pptrate','airtemp','LWRadAtm','airpres','spechum','windspd']\n",
    "# var_names = ['pptrate','airtemp','LWRadAtm','SWRadAtm','spechum','windspd']\n",
    "# var_names = ['pptrate','airtemp','LWRadAtm','SWRadAtm', 'airpres','windspd']\n",
    "var_names = ['pptrate','airtemp','LWRadAtm','SWRadAtm', 'airpres','spechum']\n",
    "\n",
    "ds_gmet = xr.open_dataset(gmet_forcing_file)\n",
    "ds_nldas = xr.open_dataset(nldas_forcing_file)\n",
    "\n",
    "for var_name in var_names:\n",
    "    \n",
    "    # gmet var = nldas var\n",
    "    ds_gmet[var_name].values = ds_nldas[var_name].values\n",
    "    \n",
    "#     # gmet windspd = mean nldas windspd\n",
    "#     if var_name == 'windspd':\n",
    "#         nldas_data = ds_nldas[var_name].values\n",
    "#         nldas_huc_mean = np.nanmean(nldas_data, axis=0)\n",
    "#         nldas_reshape = np.reshape(nldas_huc_mean, (1, len(nldas_huc_mean)))\n",
    "#         nldas_repeat = np.repeat(nldas_reshape, len(nldas_data), axis=0)\n",
    "#         ds_gmet[var_name].values = nldas_repeat\n",
    "    \n",
    "if os.path.exists(os.path.join(output_folder, outputfile)):\n",
    "    os.remove(os.path.join(output_folder, outputfile))\n",
    "ds_gmet.to_netcdf(os.path.join(output_folder, outputfile))\n"
   ]
  },
  {
   "cell_type": "code",
   "execution_count": 12,
   "metadata": {},
   "outputs": [
    {
     "data": {
      "text/plain": [
       "2920"
      ]
     },
     "execution_count": 12,
     "metadata": {},
     "output_type": "execute_result"
    }
   ],
   "source": [
    "len(nldas_data)"
   ]
  },
  {
   "cell_type": "code",
   "execution_count": 17,
   "metadata": {},
   "outputs": [
    {
     "data": {
      "text/plain": [
       "(2920, 3)"
      ]
     },
     "execution_count": 17,
     "metadata": {},
     "output_type": "execute_result"
    }
   ],
   "source": [
    "np.shape(ds_gmet[var_name].values)"
   ]
  },
  {
   "cell_type": "code",
   "execution_count": null,
   "metadata": {},
   "outputs": [],
   "source": []
  }
 ],
 "metadata": {
  "kernelspec": {
   "display_name": "Python [conda env:ENTER]",
   "language": "python",
   "name": "conda-env-ENTER-py"
  },
  "language_info": {
   "codemirror_mode": {
    "name": "ipython",
    "version": 3
   },
   "file_extension": ".py",
   "mimetype": "text/x-python",
   "name": "python",
   "nbconvert_exporter": "python",
   "pygments_lexer": "ipython3",
   "version": "3.7.0"
  }
 },
 "nbformat": 4,
 "nbformat_minor": 4
}
