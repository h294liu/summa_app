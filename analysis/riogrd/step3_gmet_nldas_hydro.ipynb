{
 "cells": [
  {
   "cell_type": "code",
   "execution_count": 9,
   "metadata": {},
   "outputs": [
    {
     "name": "stdout",
     "output_type": "stream",
     "text": [
      "read data\n",
      "plot\n",
      "save\n"
     ]
    }
   ],
   "source": [
    "import matplotlib.pyplot as plt \n",
    "import matplotlib as mpl\n",
    "from matplotlib.dates import (YEARLY, DateFormatter,\n",
    "                              rrulewrapper, RRuleLocator, drange)\n",
    "import numpy as np\n",
    "import os\n",
    "import datetime\n",
    "import pandas as pd\n",
    "import xarray as xr\n",
    "from pandas.plotting import register_matplotlib_converters\n",
    "register_matplotlib_converters()\n",
    "from PIL import Image\n",
    "\n",
    "root_dir='/glade/u/home/hongli/work/sharp/basins/scripts/'\n",
    "os.chdir(root_dir)\n",
    "output_folder='step3_plot_sim_hydro'\n",
    "outputfile = 'hydrgraph.png'\n",
    "if not os.path.exists(output_folder):\n",
    "    os.mkdir(output_folder)\n",
    "\n",
    "nldas_sim_file='/glade/u/home/hongli/work/sharp/basins/tayprk_huc12_nldas/route/output/all.nc'\n",
    "gmet_sim_file='/glade/u/home/hongli/work/sharp/basins/tayprk_huc12_metsim/route/output/all.nc'\n",
    "obs_file='Taylor_park_09107000.txt'\n",
    "q_vname2 = 'IRFroutedRunoff'\n",
    "t_vname = 'time'\n",
    "time_format='%Y-%m-%d'\n",
    "\n",
    "plot_start_date_summary=['2010-01-02']\n",
    "plot_end_date_summary = ['2010-12-31']\n",
    "formatter = DateFormatter('%m/%d/%y')\n",
    "# formatter = DateFormatter('%b-%y')\n",
    "dpi_value= 100\n",
    "\n",
    "# read\n",
    "print('read data')\n",
    "\n",
    "# read NLDAS simulated flow (m^3/s)\n",
    "f = xr.open_dataset(nldas_sim_file)\n",
    "nldas_sim_irf = f[q_vname2].values[:]\n",
    "nldas_sim_time = f[t_vname].dt.strftime(time_format).values[:]\n",
    "f.close()\n",
    "\n",
    "sim_start_str=nldas_sim_time[0]\n",
    "sim_end_str=nldas_sim_time[-1]\n",
    "\n",
    "# read GMET simulated flow (m^3/s)\n",
    "f = xr.open_dataset(gmet_sim_file)\n",
    "gmet_sim_irf = f[q_vname2].values[:]\n",
    "gmet_sim_time = f[t_vname].dt.strftime(time_format).values[:]\n",
    "f.close()\n",
    "gmet_start=(datetime.datetime.strptime(sim_start_str,time_format) - datetime.datetime.strptime(gmet_sim_time[0],time_format)).days\n",
    "gmet_len=(datetime.datetime.strptime(sim_end_str,time_format) - datetime.datetime.strptime(sim_start_str,time_format)).days+1\n",
    "gmet_sim_irf_useful = gmet_sim_irf[gmet_start:gmet_start+gmet_len]\n",
    "  \n",
    "# read observed flow (f^3/s)\n",
    "obs = []\n",
    "obs_time = []\n",
    "with open(os.path.join(root_dir, obs_file)) as f:\n",
    "    for line in f:\n",
    "        line = line.strip()\n",
    "        if line and line.startswith('USGS'):\n",
    "            splits = line.split()\n",
    "            obs_time.append(splits[2])\n",
    "            if len(splits)>3:#flow data exists\n",
    "                obs.append(float(splits[3])/35.315) #convert to m^3/s\n",
    "            else:\n",
    "                obs.append(np.nan)\n",
    "obs_start=(datetime.datetime.strptime(sim_start_str,time_format) - datetime.datetime.strptime(obs_time[0],time_format)).days\n",
    "obs_len=(datetime.datetime.strptime(sim_end_str,time_format) - datetime.datetime.strptime(sim_start_str,time_format)).days+1\n",
    "obs_useful = obs[obs_start:obs_start+obs_len]\n",
    "         \n",
    "# plot\n",
    "print('plot')\n",
    "os.chdir(os.path.join(root_dir,output_folder))\n",
    "fig_files = []\n",
    "for m in range(len(plot_start_date_summary)):\n",
    "\n",
    "    fig_file='image_'+str(m+1)+'.png'\n",
    "    fig_files.append(fig_file)\n",
    "    \n",
    "    row_num=1\n",
    "    col_num=1        \n",
    "    fig, ax = plt.subplots(row_num,col_num)\n",
    "    fig.set_figwidth(6.5*col_num) #190mm\n",
    "    fig.set_figheight(6.5*0.5*row_num) #5.61 heigh/width=3/4\n",
    "\n",
    "    plot_start_str=plot_start_date_summary[m]\n",
    "    plot_end_str=plot_end_date_summary[m]\n",
    "\n",
    "    plot_start=((datetime.datetime.strptime(plot_start_str,time_format)-datetime.datetime.strptime(sim_start_str,time_format)).days)\n",
    "    plot_len=((datetime.datetime.strptime(plot_end_str,time_format)-datetime.datetime.strptime(plot_start_str,time_format)).days+1)\n",
    "\n",
    "    plot_start_date=datetime.datetime.strptime(plot_start_str,time_format)\n",
    "    t=[plot_start_date+datetime.timedelta(days=d) for d in range(0,plot_len)]\n",
    "    t_plot=[mpl.dates.date2num(d) for d in t[0:plot_len]]        \n",
    "\n",
    "    obs_plot=obs_useful[plot_start+0:plot_start+plot_len]\n",
    "    nldas_sim_irf_plot=nldas_sim_irf[plot_start+0:plot_start+plot_len]\n",
    "    gmet_sim_irf_plot=gmet_sim_irf_useful[plot_start+0:plot_start+plot_len]\n",
    "\n",
    "    ax.plot_date(t_plot, gmet_sim_irf_plot, 'b-o', linewidth=1, markersize=1.0, alpha=0.8, label='GMET simulation') \n",
    "    ax.plot_date(t_plot, nldas_sim_irf_plot, 'r-^', linewidth=1, markersize=1.0, alpha=0.8, label='NLDAS simulation') \n",
    "    ax.plot_date(t_plot, obs_plot, 'k-s', linewidth=1.0, markersize=1.0, alpha=0.8, label='Observation')   \n",
    "\n",
    "    #axis, label, title, legend\n",
    "#         ax.set_title(titles[i], fontsize='small', weight='semibold')\n",
    "    ax.set_xlabel('Date', fontsize='small')\n",
    "    ax.set_ylabel('Flow $(m^3/s)$', fontsize='small')\n",
    "    ax.xaxis.set_major_formatter(formatter)\n",
    "    ax.xaxis.set_tick_params(labelsize='small')#rotation=30,\n",
    "    ax.legend(loc='best', fontsize='x-small', framealpha=0.5) #loc='upper right', \n",
    "\n",
    "    plt.rc('xtick',labelsize='small')\n",
    "    plt.rc('ytick',labelsize='small')                \n",
    "    fig.tight_layout()\n",
    "    fig.savefig(fig_file, dpi=dpi_value)\n",
    "    plt.close(fig)      \n",
    "    del fig\n",
    "\n",
    "# save as one figure\n",
    "print('save')\n",
    "widths = []\n",
    "heights = []\n",
    "for fig_file in fig_files:\n",
    "    im = Image.open(fig_file)\n",
    "    widths.append(im.width)\n",
    "    heights.append(im.height)\n",
    "\n",
    "max_width = max(widths)\n",
    "total_height = sum(heights)\n",
    "new_im = Image.new('RGB', (max_width, total_height))\n",
    "\n",
    "x_offset = 0\n",
    "for fig_file in fig_files:\n",
    "    im = Image.open(fig_file)    \n",
    "    new_im.paste(im, (0,x_offset))\n",
    "    x_offset += im.size[1]\n",
    "new_im.save(outputfile)\n",
    "\n",
    "for file in os.listdir(os.getcwd()):\n",
    "    if file.startswith('image'):\n",
    "        os.remove(file)\n",
    "[os.remove(file) for file in os.getcwd() if file.startswith('image')]   \n",
    "\n",
    "os.chdir(root_dir)\n"
   ]
  },
  {
   "cell_type": "code",
   "execution_count": 3,
   "metadata": {},
   "outputs": [
    {
     "data": {
      "text/plain": [
       "numpy.datetime64('2008-01-02T00:00:00.000000000')"
      ]
     },
     "execution_count": 3,
     "metadata": {},
     "output_type": "execute_result"
    }
   ],
   "source": [
    "gmet_sim_time[0]"
   ]
  },
  {
   "cell_type": "code",
   "execution_count": 4,
   "metadata": {},
   "outputs": [
    {
     "data": {
      "text/plain": [
       "datetime.datetime(2010, 1, 2, 0, 0)"
      ]
     },
     "execution_count": 4,
     "metadata": {},
     "output_type": "execute_result"
    }
   ],
   "source": [
    "datetime.datetime.strptime(sim_start_str,time_format)"
   ]
  },
  {
   "cell_type": "code",
   "execution_count": null,
   "metadata": {},
   "outputs": [],
   "source": []
  }
 ],
 "metadata": {
  "kernelspec": {
   "display_name": "Python [conda env:.conda-jtti]",
   "language": "python",
   "name": "conda-env-.conda-jtti-py"
  },
  "language_info": {
   "codemirror_mode": {
    "name": "ipython",
    "version": 3
   },
   "file_extension": ".py",
   "mimetype": "text/x-python",
   "name": "python",
   "nbconvert_exporter": "python",
   "pygments_lexer": "ipython3",
   "version": "3.7.3"
  }
 },
 "nbformat": 4,
 "nbformat_minor": 4
}
