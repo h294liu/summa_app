{
 "cells": [
  {
   "cell_type": "code",
   "execution_count": 1,
   "metadata": {},
   "outputs": [
    {
     "name": "stdout",
     "output_type": "stream",
     "text": [
      "calib_var10\n",
      "calib_route\n"
     ]
    }
   ],
   "source": [
    "import numpy as np\n",
    "import os, shutil\n",
    "\n",
    "root_dir = '/glade/u/home/hongli/work/sharp/basins/tayprk'\n",
    "output_dir=os.path.join(root_dir,'analysis/step5_identify_best_calib_trial')\n",
    "if not os.path.exists(output_dir):\n",
    "    os.makedirs(output_dir)\n",
    "ofile = 'best_calib_trial.txt'\n",
    "\n",
    "calib_types = ['calib_var10','calib_route']\n",
    "param_nums = [10, 12]\n",
    "calib_trials = [6, 6] \n",
    "\n",
    "# identify the best trial for each calib type\n",
    "trial_best_record = []\n",
    "for i in range(len(calib_types)):\n",
    "    calib_type = calib_types[i]\n",
    "    param_num = param_nums[i]\n",
    "    trial_num = calib_trials[i]\n",
    "    print(calib_type)\n",
    "    \n",
    "    # Note: the identification of the min obj is not applicable to RMSE-based calibration\n",
    "    # becasue KGE is not comparable to RMSE.\n",
    "    obj_sum = []\n",
    "    for j in range(trial_num):\n",
    "        trial_id = j+1        \n",
    "        \n",
    "        calib_dir = os.path.join(root_dir, 'calib', calib_type+'_trial'+str(trial_id))\n",
    "        output_files = [file for file in os.listdir(calib_dir) if 'OstOutput' in file]\n",
    "        output_final = output_files[-1]\n",
    "        \n",
    "        with open(os.path.join(calib_dir, output_final), 'r+') as f:\n",
    "            for line in f:\n",
    "                line = line.strip()\n",
    "                if line and line.startswith('Objective Function'):\n",
    "                    try:\n",
    "                        obj_sum.append(float(line.split(':')[1]))\n",
    "                    except ValueError:\n",
    "                        pass\n",
    "    # best trial number\n",
    "    best_trial_id =  obj_sum.index(min(obj_sum))+1\n",
    "    best_trial_folder = calib_type+'_trial'+str(best_trial_id)\n",
    "    \n",
    "    # save best trial Ostrtich output details\n",
    "    if not os.path.exists(os.path.join(output_dir, best_trial_folder)):\n",
    "        os.makedirs(os.path.join(output_dir, best_trial_folder))\n",
    "        \n",
    "    # final OstOutput file\n",
    "    best_trial_output_files = [file for file in os.listdir(os.path.join(root_dir,'calib',best_trial_folder)) if 'OstOutput' in file]\n",
    "    best_trial_output_final = best_trial_output_files[-1]    \n",
    "    trial_best_record.append([best_trial_folder, best_trial_output_final, round((-1)*min(obj_sum),2), param_num]) \n",
    "                    \n",
    "np.savetxt(os.path.join(output_dir, ofile), trial_best_record, delimiter=',', fmt='%s', \n",
    "           header='BestCalibTrial, OstOutput, Obj (KGE), Parameter numberr')"
   ]
  },
  {
   "cell_type": "code",
   "execution_count": 3,
   "metadata": {},
   "outputs": [
    {
     "data": {
      "text/plain": [
       "'OstOutput4.txt'"
      ]
     },
     "execution_count": 3,
     "metadata": {},
     "output_type": "execute_result"
    }
   ],
   "source": [
    "output_final"
   ]
  },
  {
   "cell_type": "code",
   "execution_count": null,
   "metadata": {},
   "outputs": [],
   "source": []
  }
 ],
 "metadata": {
  "kernelspec": {
   "display_name": "Python [conda env:ENTER]",
   "language": "python",
   "name": "conda-env-ENTER-py"
  },
  "language_info": {
   "codemirror_mode": {
    "name": "ipython",
    "version": 3
   },
   "file_extension": ".py",
   "mimetype": "text/x-python",
   "name": "python",
   "nbconvert_exporter": "python",
   "pygments_lexer": "ipython3",
   "version": "3.7.0"
  }
 },
 "nbformat": 4,
 "nbformat_minor": 4
}
