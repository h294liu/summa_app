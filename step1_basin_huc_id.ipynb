{
 "cells": [
  {
   "cell_type": "code",
   "execution_count": 25,
   "metadata": {},
   "outputs": [
    {
     "name": "stdout",
     "output_type": "stream",
     "text": [
      "read\n"
     ]
    }
   ],
   "source": [
    "import numpy as np\n",
    "from geopandas import read_file\n",
    "from sys import exit\n",
    "\n",
    "def unique(list1):\n",
    "    list_uniqe = []\n",
    "    for x in list1:\n",
    "        if not x in list_uniqe:\n",
    "            list_uniqe.append(x)\n",
    "    return list_uniqe\n",
    "\n",
    "args_shpfile = '/glade/u/home/hongli/data/shapefile/upco_huc12_shapefile/UPCO_huc12_v3.shp'\n",
    "args_hucid = '130100011306'\n",
    "args_opath = 'step6_upstream_hucid_riogrd.txt'\n",
    "\n",
    "# read HUC12 shapefile\n",
    "print('read shapefile')\n",
    "data = read_file(args.shpfile)\n",
    "if not 'HUC12' in data.columns.values:\n",
    "    exit('HUC12 column does not exist in shapefile.')\n",
    "else:\n",
    "    hucs = data['HUC12'].values\n",
    "if not 'ToHUC' in data.columns.values:\n",
    "    exit('ToHUC12 column does not exist in shapefile.')\n",
    "else:\n",
    "    tohucs = data['ToHUC'].values\n",
    "\n",
    "# # search upstream HUC\n",
    "# print('search')\n",
    "# basin_hucs = [args_hucid]\n",
    "# huc_found = np.unique(hucs[np.where(tohucs==args_hucid)])\n",
    "# basin_hucs.extend(list(huc_found))\n",
    "# round_num = 0\n",
    "\n",
    "# while len(huc_found) != 0:\n",
    "\n",
    "#     round_num = round_num+1\n",
    "#         print(\"Round %d. Totally %d HUCs are found.\" % (round_num, len(basin_hucs)))\n",
    "\n",
    "#     # search upstream hucs\n",
    "#     huc_found_next = []\n",
    "#     for huc_i in huc_found:\n",
    "#         huc_found_next.extend(list(hucs[np.where(tohucs==huc_i)]))\n",
    "#     huc_found_next = unique(huc_found_next)\n",
    "\n",
    "#     # identify if found HUC exists in upstrm_hucs\n",
    "#     huc_found = [huc for huc in huc_found_next if not huc in basin_hucs]\n",
    "#     basin_hucs.extend(huc_found)\n",
    "    \n",
    "# # save\n",
    "# print('save')\n",
    "# np.savetxt(args_opath, basin_hucs, fmt='%s')\n",
    "# del data, hucs, tohucs"
   ]
  },
  {
   "cell_type": "code",
   "execution_count": 30,
   "metadata": {},
   "outputs": [
    {
     "data": {
      "text/plain": [
       "True"
      ]
     },
     "execution_count": 30,
     "metadata": {},
     "output_type": "execute_result"
    }
   ],
   "source": [
    "'ToHUC' in data.columns.values"
   ]
  },
  {
   "cell_type": "code",
   "execution_count": null,
   "metadata": {},
   "outputs": [],
   "source": []
  }
 ],
 "metadata": {
  "kernelspec": {
   "display_name": "Python [conda env:ENTER]",
   "language": "python",
   "name": "conda-env-ENTER-py"
  },
  "language_info": {
   "codemirror_mode": {
    "name": "ipython",
    "version": 3
   },
   "file_extension": ".py",
   "mimetype": "text/x-python",
   "name": "python",
   "nbconvert_exporter": "python",
   "pygments_lexer": "ipython3",
   "version": "3.7.0"
  }
 },
 "nbformat": 4,
 "nbformat_minor": 4
}
